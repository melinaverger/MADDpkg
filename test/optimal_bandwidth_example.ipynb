{
 "cells": [
  {
   "cell_type": "code",
   "execution_count": null,
   "id": "ffe7d6d8",
   "metadata": {},
   "outputs": [],
   "source": [
    "import pandas as pd"
   ]
  },
  {
   "cell_type": "code",
   "execution_count": null,
   "id": "26fc20f6",
   "metadata": {},
   "outputs": [],
   "source": [
    "import os"
   ]
  },
  {
   "cell_type": "code",
   "execution_count": null,
   "id": "2f0889d5",
   "metadata": {},
   "outputs": [],
   "source": [
    "os.chdir(\"../src/\")"
   ]
  },
  {
   "cell_type": "code",
   "execution_count": null,
   "id": "63992c56",
   "metadata": {},
   "outputs": [],
   "source": [
    "import maddpkg  # maddpkg.py\n",
    "from maddpkg import optimal_bandwidth as ob  # optimal_bandwidth.py"
   ]
  },
  {
   "cell_type": "code",
   "execution_count": null,
   "id": "5169a39c",
   "metadata": {},
   "outputs": [],
   "source": [
    "maddpkg.madd_plot()"
   ]
  },
  {
   "cell_type": "code",
   "execution_count": null,
   "id": "26e967bc",
   "metadata": {},
   "outputs": [],
   "source": [
    "ob.calculate_std()"
   ]
  },
  {
   "cell_type": "code",
   "execution_count": null,
   "id": "3dfc9d64",
   "metadata": {},
   "outputs": [],
   "source": [
    "# Load train and test sets\n",
    "X_train = pd.read_csv(\"./data/X_train.csv\")\n",
    "X_test = pd.read_csv(\"./data/X_test.csv\")\n",
    "y_train = pd.read_csv(\"./data/y_train.csv\")\n",
    "y_test = pd.read_csv(\"./data/y_test.csv\")"
   ]
  }
 ],
 "metadata": {
  "kernelspec": {
   "display_name": "venv_for_maddlib",
   "language": "python",
   "name": "venv_for_maddlib"
  },
  "language_info": {
   "codemirror_mode": {
    "name": "ipython",
    "version": 3
   },
   "file_extension": ".py",
   "mimetype": "text/x-python",
   "name": "python",
   "nbconvert_exporter": "python",
   "pygments_lexer": "ipython3",
   "version": "3.10.4"
  }
 },
 "nbformat": 4,
 "nbformat_minor": 5
}
