{
 "cells": [
  {
   "cell_type": "code",
   "execution_count": 1,
   "id": "1a4baa11",
   "metadata": {},
   "outputs": [],
   "source": [
    "import pandas as pd\n",
    "import numpy as np\n",
    "from sklearn.linear_model import LogisticRegression"
   ]
  },
  {
   "cell_type": "code",
   "execution_count": 2,
   "id": "816d769a",
   "metadata": {},
   "outputs": [],
   "source": [
    "import os"
   ]
  },
  {
   "cell_type": "code",
   "execution_count": 3,
   "id": "ee6cb329",
   "metadata": {},
   "outputs": [],
   "source": [
    "os.chdir(\"../src/\")"
   ]
  },
  {
   "cell_type": "code",
   "execution_count": 4,
   "id": "cf6786bb",
   "metadata": {},
   "outputs": [],
   "source": [
    "import maddpkg  # maddpkg.py\n",
    "from maddpkg import optimal_bandwidth as ob  # optimal_bandwidth.py"
   ]
  },
  {
   "cell_type": "code",
   "execution_count": null,
   "id": "28604577",
   "metadata": {},
   "outputs": [],
   "source": [
    "maddpkg.madd_plot()"
   ]
  },
  {
   "cell_type": "code",
   "execution_count": null,
   "id": "792c8add",
   "metadata": {},
   "outputs": [],
   "source": [
    "ob.calculate_std()"
   ]
  },
  {
   "cell_type": "code",
   "execution_count": null,
   "id": "dda8e85b",
   "metadata": {},
   "outputs": [],
   "source": [
    "# Load train and test sets\n",
    "X_train = pd.read_csv(\"./data/X_train.csv\")\n",
    "X_test = pd.read_csv(\"./data/X_test.csv\")\n",
    "y_train = pd.read_csv(\"./data/y_train.csv\")\n",
    "y_test = pd.read_csv(\"./data/y_test.csv\")"
   ]
  },
  {
   "cell_type": "code",
   "execution_count": null,
   "id": "5777fc75",
   "metadata": {},
   "outputs": [],
   "source": [
    "# Training phase: Fit a classifier\n",
    "clf = LogisticRegression(random_state=0)\n",
    "clf.fit(X_train, y_train.values.ravel())"
   ]
  },
  {
   "cell_type": "code",
   "execution_count": null,
   "id": "2a3468a7",
   "metadata": {},
   "outputs": [],
   "source": [
    "# Testing phase: Get the predicted probabilities of positive predictions\n",
    "y_pp = clf.predict_proba(X_test)[:, 1] "
   ]
  },
  {
   "cell_type": "code",
   "execution_count": null,
   "id": "a65cae55",
   "metadata": {},
   "outputs": [],
   "source": []
  },
  {
   "cell_type": "code",
   "execution_count": 3,
   "id": "a560bf1b",
   "metadata": {},
   "outputs": [],
   "source": [
    "m = np.arange(1, 500, 1)\n",
    "e = 1/m\n",
    "e = e[::-1]"
   ]
  },
  {
   "cell_type": "code",
   "execution_count": 4,
   "id": "9473ee2d",
   "metadata": {},
   "outputs": [
    {
     "data": {
      "text/plain": [
       "numpy.ndarray"
      ]
     },
     "execution_count": 4,
     "metadata": {},
     "output_type": "execute_result"
    }
   ],
   "source": [
    "type(e)"
   ]
  },
  {
   "cell_type": "code",
   "execution_count": 9,
   "id": "e6c45cbc",
   "metadata": {},
   "outputs": [
    {
     "data": {
      "text/plain": [
       "False"
      ]
     },
     "execution_count": 9,
     "metadata": {},
     "output_type": "execute_result"
    }
   ],
   "source": [
    "type(500) is not int"
   ]
  },
  {
   "cell_type": "code",
   "execution_count": 6,
   "id": "4ee9e6bc",
   "metadata": {},
   "outputs": [
    {
     "ename": "Exception",
     "evalue": "N should be an integer.",
     "output_type": "error",
     "traceback": [
      "\u001b[0;31m---------------------------------------------------------------------------\u001b[0m",
      "\u001b[0;31mException\u001b[0m                                 Traceback (most recent call last)",
      "Cell \u001b[0;32mIn[6], line 1\u001b[0m\n\u001b[0;32m----> 1\u001b[0m \u001b[43mob\u001b[49m\u001b[38;5;241;43m.\u001b[39;49m\u001b[43mgenerate_bandwidths\u001b[49m\u001b[43m(\u001b[49m\u001b[38;5;241;43m500\u001b[39;49m\u001b[43m)\u001b[49m\n",
      "File \u001b[0;32m~/Desktop/MADDpkg/src/optimal_bandwidth.py:19\u001b[0m, in \u001b[0;36mgenerate_bandwidths\u001b[0;34m(N)\u001b[0m\n\u001b[1;32m      6\u001b[0m \u001b[38;5;250m\u001b[39m\u001b[38;5;124;03m\"\"\"Generates N relevant values of bandwidth.\u001b[39;00m\n\u001b[1;32m      7\u001b[0m \n\u001b[1;32m      8\u001b[0m \u001b[38;5;124;03mParameters\u001b[39;00m\n\u001b[0;32m   (...)\u001b[0m\n\u001b[1;32m     16\u001b[0m \u001b[38;5;124;03m    The bandwidth 1-d vector\u001b[39;00m\n\u001b[1;32m     17\u001b[0m \u001b[38;5;124;03m\"\"\"\u001b[39;00m\n\u001b[1;32m     18\u001b[0m \u001b[38;5;28;01mif\u001b[39;00m N \u001b[38;5;129;01mis\u001b[39;00m \u001b[38;5;129;01mnot\u001b[39;00m \u001b[38;5;28mint\u001b[39m:\n\u001b[0;32m---> 19\u001b[0m     \u001b[38;5;28;01mraise\u001b[39;00m \u001b[38;5;167;01mException\u001b[39;00m(\u001b[38;5;124m\"\u001b[39m\u001b[38;5;124mN should be an integer.\u001b[39m\u001b[38;5;124m\"\u001b[39m)\n\u001b[1;32m     21\u001b[0m m \u001b[38;5;241m=\u001b[39m np\u001b[38;5;241m.\u001b[39marange(\u001b[38;5;241m1\u001b[39m, N, \u001b[38;5;241m1\u001b[39m)  \u001b[38;5;66;03m# list of number of bins\u001b[39;00m\n\u001b[1;32m     22\u001b[0m h \u001b[38;5;241m=\u001b[39m \u001b[38;5;241m1\u001b[39m\u001b[38;5;241m/\u001b[39mm\n",
      "\u001b[0;31mException\u001b[0m: N should be an integer."
     ]
    }
   ],
   "source": [
    "ob.generate_bandwidths(500)"
   ]
  },
  {
   "cell_type": "code",
   "execution_count": null,
   "id": "eb51d2cd",
   "metadata": {},
   "outputs": [],
   "source": [
    "madd = [maddpkg.MADD(X_test, y_pp, sensitive_feature, ei) for ei in e]"
   ]
  },
  {
   "cell_type": "code",
   "execution_count": null,
   "id": "155ac187",
   "metadata": {},
   "outputs": [],
   "source": [
    "sensitive_feature = \"poverty\"\n",
    "n0 = len(X_test[X_test[sensitive_feature] == 0])\n",
    "n1 = len(X_test[X_test[sensitive_feature] == 1])"
   ]
  },
  {
   "cell_type": "code",
   "execution_count": null,
   "id": "65ea6f4f",
   "metadata": {},
   "outputs": [],
   "source": [
    "result_stable = find_stable_interval(e, madd, min_nb_points=50)"
   ]
  },
  {
   "cell_type": "code",
   "execution_count": null,
   "id": "313dab1c",
   "metadata": {},
   "outputs": [],
   "source": []
  },
  {
   "cell_type": "code",
   "execution_count": null,
   "id": "679b88a2",
   "metadata": {},
   "outputs": [],
   "source": []
  }
 ],
 "metadata": {
  "kernelspec": {
   "display_name": "venv_for_maddlib",
   "language": "python",
   "name": "venv_for_maddlib"
  },
  "language_info": {
   "codemirror_mode": {
    "name": "ipython",
    "version": 3
   },
   "file_extension": ".py",
   "mimetype": "text/x-python",
   "name": "python",
   "nbconvert_exporter": "python",
   "pygments_lexer": "ipython3",
   "version": "3.10.4"
  }
 },
 "nbformat": 4,
 "nbformat_minor": 5
}
