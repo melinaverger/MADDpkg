{
 "cells": [
  {
   "cell_type": "code",
   "execution_count": null,
   "id": "dcc453b0",
   "metadata": {},
   "outputs": [],
   "source": [
    "import pandas as pd\n",
    "from sklearn.linear_model import LogisticRegression"
   ]
  },
  {
   "cell_type": "code",
   "execution_count": null,
   "id": "1c23a4a9",
   "metadata": {},
   "outputs": [],
   "source": [
    "import os"
   ]
  },
  {
   "cell_type": "code",
   "execution_count": null,
   "id": "1e2cb3a0",
   "metadata": {},
   "outputs": [],
   "source": [
    "os.chdir(\"../src/\")"
   ]
  },
  {
   "cell_type": "code",
   "execution_count": null,
   "id": "b0b21974",
   "metadata": {},
   "outputs": [],
   "source": [
    "import maddpkg  # maddpkg.py\n",
    "from maddpkg import optimal_bandwidth as ob  # optimal_bandwidth.py"
   ]
  },
  {
   "cell_type": "code",
   "execution_count": null,
   "id": "48b3fc25",
   "metadata": {},
   "outputs": [],
   "source": [
    "maddpkg.madd_plot()"
   ]
  },
  {
   "cell_type": "code",
   "execution_count": null,
   "id": "f84a20ce",
   "metadata": {},
   "outputs": [],
   "source": [
    "ob.calculate_std()"
   ]
  },
  {
   "cell_type": "code",
   "execution_count": null,
   "id": "f97d9ce4",
   "metadata": {},
   "outputs": [],
   "source": [
    "# Load train and test sets\n",
    "X_train = pd.read_csv(\"./data/X_train.csv\")\n",
    "X_test = pd.read_csv(\"./data/X_test.csv\")\n",
    "y_train = pd.read_csv(\"./data/y_train.csv\")\n",
    "y_test = pd.read_csv(\"./data/y_test.csv\")"
   ]
  },
  {
   "cell_type": "code",
   "execution_count": null,
   "id": "baafec49",
   "metadata": {},
   "outputs": [],
   "source": [
    "# Training phase: Fit a classifier\n",
    "clf = LogisticRegression(random_state=0)\n",
    "clf.fit(X_train, y_train.values.ravel())"
   ]
  },
  {
   "cell_type": "code",
   "execution_count": null,
   "id": "58f66656",
   "metadata": {},
   "outputs": [],
   "source": [
    "# Testing phase: Get the predicted probabilities of positive predictions\n",
    "y_pp = clf.predict_proba(X_test)[:, 1] "
   ]
  },
  {
   "cell_type": "code",
   "execution_count": null,
   "id": "7155f095",
   "metadata": {},
   "outputs": [],
   "source": []
  },
  {
   "cell_type": "code",
   "execution_count": null,
   "id": "ed5f80c6",
   "metadata": {},
   "outputs": [],
   "source": [
    "m = np.arange(1, 500, 1)\n",
    "e = 1/m\n",
    "e = e[::-1]"
   ]
  },
  {
   "cell_type": "code",
   "execution_count": null,
   "id": "0daffcb1",
   "metadata": {},
   "outputs": [],
   "source": [
    "madd = [maddpkg.MADD(X_test, y_pp, sensitive_feature, ei) for ei in e]"
   ]
  },
  {
   "cell_type": "code",
   "execution_count": null,
   "id": "f60ad8da",
   "metadata": {},
   "outputs": [],
   "source": [
    "sensitive_feature = \"poverty\"\n",
    "n0 = len(X_test[X_test[sensitive_feature] == 0])\n",
    "n1 = len(X_test[X_test[sensitive_feature] == 1])"
   ]
  },
  {
   "cell_type": "code",
   "execution_count": null,
   "id": "b0186e9f",
   "metadata": {},
   "outputs": [],
   "source": [
    "result_stable = find_stable_interval(e, madd, min_nb_points=50)"
   ]
  },
  {
   "cell_type": "code",
   "execution_count": null,
   "id": "003bfce2",
   "metadata": {},
   "outputs": [],
   "source": []
  },
  {
   "cell_type": "code",
   "execution_count": null,
   "id": "e2ff7ded",
   "metadata": {},
   "outputs": [],
   "source": []
  }
 ],
 "metadata": {
  "kernelspec": {
   "display_name": "venv_for_maddlib",
   "language": "python",
   "name": "venv_for_maddlib"
  },
  "language_info": {
   "codemirror_mode": {
    "name": "ipython",
    "version": 3
   },
   "file_extension": ".py",
   "mimetype": "text/x-python",
   "name": "python",
   "nbconvert_exporter": "python",
   "pygments_lexer": "ipython3",
   "version": "3.10.4"
  }
 },
 "nbformat": 4,
 "nbformat_minor": 5
}
