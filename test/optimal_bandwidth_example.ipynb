{
 "cells": [
  {
   "cell_type": "code",
   "execution_count": 1,
   "id": "d4d96ad5",
   "metadata": {},
   "outputs": [],
   "source": [
    "import os"
   ]
  },
  {
   "cell_type": "code",
   "execution_count": 2,
   "id": "ce73cb0d",
   "metadata": {},
   "outputs": [],
   "source": [
    "os.chdir(\"../src/\")"
   ]
  },
  {
   "cell_type": "code",
   "execution_count": 3,
   "id": "86a5342d",
   "metadata": {},
   "outputs": [],
   "source": [
    "import maddpkg as madd  # maddpkg.py\n",
    "from maddpkg import optimal_bandwidth as ob  # optimal_bandwidth.py"
   ]
  },
  {
   "cell_type": "code",
   "execution_count": null,
   "id": "619e3d06",
   "metadata": {},
   "outputs": [],
   "source": [
    "madd.madd_plot()"
   ]
  },
  {
   "cell_type": "code",
   "execution_count": null,
   "id": "b5fb5856",
   "metadata": {},
   "outputs": [],
   "source": [
    "ob.calculate_std()"
   ]
  },
  {
   "cell_type": "code",
   "execution_count": null,
   "id": "c0b19aa3",
   "metadata": {},
   "outputs": [],
   "source": []
  }
 ],
 "metadata": {
  "kernelspec": {
   "display_name": "venv_for_maddlib",
   "language": "python",
   "name": "venv_for_maddlib"
  },
  "language_info": {
   "codemirror_mode": {
    "name": "ipython",
    "version": 3
   },
   "file_extension": ".py",
   "mimetype": "text/x-python",
   "name": "python",
   "nbconvert_exporter": "python",
   "pygments_lexer": "ipython3",
   "version": "3.10.4"
  }
 },
 "nbformat": 4,
 "nbformat_minor": 5
}
