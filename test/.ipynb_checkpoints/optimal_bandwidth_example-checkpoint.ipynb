{
 "cells": [
  {
   "cell_type": "code",
   "execution_count": 1,
   "id": "85e98a51",
   "metadata": {},
   "outputs": [],
   "source": [
    "import maddpkg"
   ]
  },
  {
   "cell_type": "code",
   "execution_count": 4,
   "id": "c97024b7",
   "metadata": {
    "scrolled": true
   },
   "outputs": [
    {
     "ename": "AttributeError",
     "evalue": "module 'maddpkg' has no attribute 'calculate_std'",
     "output_type": "error",
     "traceback": [
      "\u001b[0;31m---------------------------------------------------------------------------\u001b[0m",
      "\u001b[0;31mAttributeError\u001b[0m                            Traceback (most recent call last)",
      "Cell \u001b[0;32mIn[4], line 1\u001b[0m\n\u001b[0;32m----> 1\u001b[0m \u001b[43mmaddpkg\u001b[49m\u001b[38;5;241;43m.\u001b[39;49m\u001b[43mcalculate_std\u001b[49m\n",
      "\u001b[0;31mAttributeError\u001b[0m: module 'maddpkg' has no attribute 'calculate_std'"
     ]
    }
   ],
   "source": [
    "maddpkg.calculate_std"
   ]
  },
  {
   "cell_type": "code",
   "execution_count": null,
   "id": "d05b072f",
   "metadata": {},
   "outputs": [],
   "source": []
  }
 ],
 "metadata": {
  "kernelspec": {
   "display_name": "venv_for_maddlib",
   "language": "python",
   "name": "venv_for_maddlib"
  },
  "language_info": {
   "codemirror_mode": {
    "name": "ipython",
    "version": 3
   },
   "file_extension": ".py",
   "mimetype": "text/x-python",
   "name": "python",
   "nbconvert_exporter": "python",
   "pygments_lexer": "ipython3",
   "version": "3.10.4"
  }
 },
 "nbformat": 4,
 "nbformat_minor": 5
}
