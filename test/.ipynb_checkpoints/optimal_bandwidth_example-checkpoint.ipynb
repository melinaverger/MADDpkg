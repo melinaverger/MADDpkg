{
 "cells": [
  {
   "cell_type": "code",
   "execution_count": 1,
   "id": "b62e842e",
   "metadata": {},
   "outputs": [],
   "source": [
    "import os"
   ]
  },
  {
   "cell_type": "code",
   "execution_count": 2,
   "id": "c98b5db8",
   "metadata": {},
   "outputs": [],
   "source": [
    "os.chdir(\"../src/\")"
   ]
  },
  {
   "cell_type": "code",
   "execution_count": 3,
   "id": "52900838",
   "metadata": {},
   "outputs": [],
   "source": [
    "import maddpkg  # maddpkg.py\n",
    "from maddpkg import optimal_bandwidth as ob  # optimal_bandwidth.py"
   ]
  },
  {
   "cell_type": "code",
   "execution_count": null,
   "id": "f6031f3d",
   "metadata": {},
   "outputs": [],
   "source": [
    "maddpkg.madd_plot()"
   ]
  },
  {
   "cell_type": "code",
   "execution_count": null,
   "id": "b19dd5df",
   "metadata": {},
   "outputs": [],
   "source": [
    "ob.calculate_std()"
   ]
  },
  {
   "cell_type": "code",
   "execution_count": null,
   "id": "adaa275f",
   "metadata": {},
   "outputs": [],
   "source": []
  }
 ],
 "metadata": {
  "kernelspec": {
   "display_name": "venv_for_maddlib",
   "language": "python",
   "name": "venv_for_maddlib"
  },
  "language_info": {
   "codemirror_mode": {
    "name": "ipython",
    "version": 3
   },
   "file_extension": ".py",
   "mimetype": "text/x-python",
   "name": "python",
   "nbconvert_exporter": "python",
   "pygments_lexer": "ipython3",
   "version": "3.10.4"
  }
 },
 "nbformat": 4,
 "nbformat_minor": 5
}
