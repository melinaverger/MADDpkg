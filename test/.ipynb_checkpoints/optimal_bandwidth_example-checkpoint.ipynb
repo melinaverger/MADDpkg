{
 "cells": [
  {
   "cell_type": "code",
   "execution_count": 7,
   "id": "57787f28",
   "metadata": {
    "scrolled": true
   },
   "outputs": [
    {
     "name": "stdout",
     "output_type": "stream",
     "text": [
      "Obtaining file:///Users/melinaverger/Desktop/MADDpkg\n",
      "  Installing build dependencies ... \u001b[?25ldone\n",
      "\u001b[?25h  Checking if build backend supports build_editable ... \u001b[?25ldone\n",
      "\u001b[?25h  Getting requirements to build editable ... \u001b[?25ldone\n",
      "\u001b[?25h  Preparing editable metadata (pyproject.toml) ... \u001b[?25ldone\n",
      "\u001b[?25hRequirement already satisfied: scikit-learn in /Users/melinaverger/Documents/phd/code/virtual environments folder/venv_for_maddlib/lib/python3.10/site-packages (from maddpkg==0.5.1) (1.3.1)\n",
      "Requirement already satisfied: pandas in /Users/melinaverger/Documents/phd/code/virtual environments folder/venv_for_maddlib/lib/python3.10/site-packages (from maddpkg==0.5.1) (2.1.1)\n",
      "Requirement already satisfied: numpy in /Users/melinaverger/Documents/phd/code/virtual environments folder/venv_for_maddlib/lib/python3.10/site-packages (from maddpkg==0.5.1) (1.26.0)\n",
      "Requirement already satisfied: seaborn in /Users/melinaverger/Documents/phd/code/virtual environments folder/venv_for_maddlib/lib/python3.10/site-packages (from maddpkg==0.5.1) (0.13.0)\n",
      "Requirement already satisfied: matplotlib in /Users/melinaverger/Documents/phd/code/virtual environments folder/venv_for_maddlib/lib/python3.10/site-packages (from maddpkg==0.5.1) (3.8.0)\n",
      "Requirement already satisfied: contourpy>=1.0.1 in /Users/melinaverger/Documents/phd/code/virtual environments folder/venv_for_maddlib/lib/python3.10/site-packages (from matplotlib->maddpkg==0.5.1) (1.1.1)\n",
      "Requirement already satisfied: cycler>=0.10 in /Users/melinaverger/Documents/phd/code/virtual environments folder/venv_for_maddlib/lib/python3.10/site-packages (from matplotlib->maddpkg==0.5.1) (0.12.1)\n",
      "Requirement already satisfied: fonttools>=4.22.0 in /Users/melinaverger/Documents/phd/code/virtual environments folder/venv_for_maddlib/lib/python3.10/site-packages (from matplotlib->maddpkg==0.5.1) (4.43.1)\n",
      "Requirement already satisfied: kiwisolver>=1.0.1 in /Users/melinaverger/Documents/phd/code/virtual environments folder/venv_for_maddlib/lib/python3.10/site-packages (from matplotlib->maddpkg==0.5.1) (1.4.5)\n",
      "Requirement already satisfied: packaging>=20.0 in /Users/melinaverger/Documents/phd/code/virtual environments folder/venv_for_maddlib/lib/python3.10/site-packages (from matplotlib->maddpkg==0.5.1) (23.2)\n",
      "Requirement already satisfied: pillow>=6.2.0 in /Users/melinaverger/Documents/phd/code/virtual environments folder/venv_for_maddlib/lib/python3.10/site-packages (from matplotlib->maddpkg==0.5.1) (10.0.1)\n",
      "Requirement already satisfied: pyparsing>=2.3.1 in /Users/melinaverger/Documents/phd/code/virtual environments folder/venv_for_maddlib/lib/python3.10/site-packages (from matplotlib->maddpkg==0.5.1) (3.1.1)\n",
      "Requirement already satisfied: python-dateutil>=2.7 in /Users/melinaverger/Documents/phd/code/virtual environments folder/venv_for_maddlib/lib/python3.10/site-packages (from matplotlib->maddpkg==0.5.1) (2.8.2)\n",
      "Requirement already satisfied: pytz>=2020.1 in /Users/melinaverger/Documents/phd/code/virtual environments folder/venv_for_maddlib/lib/python3.10/site-packages (from pandas->maddpkg==0.5.1) (2023.3.post1)\n",
      "Requirement already satisfied: tzdata>=2022.1 in /Users/melinaverger/Documents/phd/code/virtual environments folder/venv_for_maddlib/lib/python3.10/site-packages (from pandas->maddpkg==0.5.1) (2023.3)\n",
      "Requirement already satisfied: scipy>=1.5.0 in /Users/melinaverger/Documents/phd/code/virtual environments folder/venv_for_maddlib/lib/python3.10/site-packages (from scikit-learn->maddpkg==0.5.1) (1.11.3)\n",
      "Requirement already satisfied: joblib>=1.1.1 in /Users/melinaverger/Documents/phd/code/virtual environments folder/venv_for_maddlib/lib/python3.10/site-packages (from scikit-learn->maddpkg==0.5.1) (1.3.2)\n",
      "Requirement already satisfied: threadpoolctl>=2.0.0 in /Users/melinaverger/Documents/phd/code/virtual environments folder/venv_for_maddlib/lib/python3.10/site-packages (from scikit-learn->maddpkg==0.5.1) (3.2.0)\n",
      "Requirement already satisfied: six>=1.5 in /Users/melinaverger/Documents/phd/code/virtual environments folder/venv_for_maddlib/lib/python3.10/site-packages (from python-dateutil>=2.7->matplotlib->maddpkg==0.5.1) (1.16.0)\n",
      "Building wheels for collected packages: maddpkg\n",
      "  Building editable for maddpkg (pyproject.toml) ... \u001b[?25ldone\n",
      "\u001b[?25h  Created wheel for maddpkg: filename=maddpkg-0.5.1-0.editable-py3-none-any.whl size=7699 sha256=1f40bd2ad3cfa577df08e65d0a2fbf8ce3ad28c8853dd746fcd3a6265c123d09\n",
      "  Stored in directory: /private/var/folders/6s/w3_sq1fd2nj1v6fbkjzs53100000gn/T/pip-ephem-wheel-cache-d2bahd3k/wheels/fc/f4/7e/fc24a630e290c733b674ebaaf3bb5f1b9ca2180181074383dd\n",
      "Successfully built maddpkg\n",
      "Installing collected packages: maddpkg\n",
      "  Attempting uninstall: maddpkg\n",
      "    Found existing installation: maddpkg 0.5.1\n",
      "    Uninstalling maddpkg-0.5.1:\n",
      "      Successfully uninstalled maddpkg-0.5.1\n",
      "Successfully installed maddpkg-0.5.1\n"
     ]
    }
   ],
   "source": [
    "!python3 -m pip install -e .."
   ]
  },
  {
   "cell_type": "code",
   "execution_count": 2,
   "id": "50bfdd2a",
   "metadata": {
    "scrolled": true
   },
   "outputs": [
    {
     "name": "stdout",
     "output_type": "stream",
     "text": [
      "Package         Version      Editable project location\r\n",
      "--------------- ------------ -----------------------------------\r\n",
      "contourpy       1.1.1\r\n",
      "cycler          0.12.1\r\n",
      "fonttools       4.43.1\r\n",
      "joblib          1.3.2\r\n",
      "kiwisolver      1.4.5\r\n",
      "maddpkg         0.5.1        /Users/melinaverger/Desktop/MADDpkg\r\n",
      "matplotlib      3.8.0\r\n",
      "numpy           1.26.0\r\n",
      "packaging       23.2\r\n",
      "pandas          2.1.1\r\n",
      "Pillow          10.0.1\r\n",
      "pip             23.2.1\r\n",
      "pyparsing       3.1.1\r\n",
      "python-dateutil 2.8.2\r\n",
      "pytz            2023.3.post1\r\n",
      "scikit-learn    1.3.1\r\n",
      "scipy           1.11.3\r\n",
      "seaborn         0.13.0\r\n",
      "setuptools      58.1.0\r\n",
      "six             1.16.0\r\n",
      "threadpoolctl   3.2.0\r\n",
      "tzdata          2023.3\r\n"
     ]
    }
   ],
   "source": [
    "!pip list"
   ]
  },
  {
   "cell_type": "code",
   "execution_count": 8,
   "id": "8941afca",
   "metadata": {},
   "outputs": [],
   "source": [
    "import maddpkg"
   ]
  },
  {
   "cell_type": "code",
   "execution_count": 11,
   "id": "3a69472b",
   "metadata": {},
   "outputs": [
    {
     "ename": "TypeError",
     "evalue": "madd_plot() missing 5 required positional arguments: 'pred_proba_sf0', 'pred_proba_sf1', 'sf', 'e', and 'model_name'",
     "output_type": "error",
     "traceback": [
      "\u001b[0;31m---------------------------------------------------------------------------\u001b[0m",
      "\u001b[0;31mTypeError\u001b[0m                                 Traceback (most recent call last)",
      "Cell \u001b[0;32mIn[11], line 1\u001b[0m\n\u001b[0;32m----> 1\u001b[0m \u001b[43mmaddpkg\u001b[49m\u001b[38;5;241;43m.\u001b[39;49m\u001b[43mmadd_plot\u001b[49m\u001b[43m(\u001b[49m\u001b[43m)\u001b[49m\n",
      "\u001b[0;31mTypeError\u001b[0m: madd_plot() missing 5 required positional arguments: 'pred_proba_sf0', 'pred_proba_sf1', 'sf', 'e', and 'model_name'"
     ]
    }
   ],
   "source": [
    "maddpkg.madd_plot()"
   ]
  },
  {
   "cell_type": "code",
   "execution_count": null,
   "id": "9cd053ca",
   "metadata": {},
   "outputs": [],
   "source": []
  }
 ],
 "metadata": {
  "kernelspec": {
   "display_name": "venv_for_maddlib",
   "language": "python",
   "name": "venv_for_maddlib"
  },
  "language_info": {
   "codemirror_mode": {
    "name": "ipython",
    "version": 3
   },
   "file_extension": ".py",
   "mimetype": "text/x-python",
   "name": "python",
   "nbconvert_exporter": "python",
   "pygments_lexer": "ipython3",
   "version": "3.10.4"
  }
 },
 "nbformat": 4,
 "nbformat_minor": 5
}
